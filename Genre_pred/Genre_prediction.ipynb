{
 "cells": [
  {
   "cell_type": "code",
   "execution_count": 48,
   "metadata": {},
   "outputs": [],
   "source": [
    "import pandas as pd\n",
    "from sklearn.feature_extraction.text import TfidfVectorizer\n",
    "from sklearn.model_selection import train_test_split\n",
    "from sklearn.naive_bayes import MultinomialNB\n",
    "from sklearn.metrics import accuracy_score, classification_report\n",
    "from nltk.corpus import stopwords\n",
    "\n",
    "# Load your dataset with movie descriptions and genres\n",
    "df = pd.read_csv('train_data.txt', sep='|')\n",
    "\n",
    "\n",
    "\n"
   ]
  },
  {
   "cell_type": "code",
   "execution_count": 49,
   "metadata": {},
   "outputs": [
    {
     "name": "stdout",
     "output_type": "stream",
     "text": [
      "            genre  count\n",
      "0         action    1315\n",
      "1          adult     590\n",
      "2      adventure     775\n",
      "3      animation     498\n",
      "4      biography     265\n",
      "5         comedy    7447\n",
      "6          crime     505\n",
      "7    documentary   13096\n",
      "8          drama   13613\n",
      "9         family     784\n",
      "10       fantasy     323\n",
      "11     game-show     194\n",
      "12       history     243\n",
      "13        horror    2204\n",
      "14         music     731\n",
      "15       musical     277\n",
      "16       mystery     319\n",
      "17          news     181\n",
      "18    reality-tv     884\n",
      "19       romance     672\n",
      "20        sci-fi     647\n",
      "21         short    5073\n",
      "22         sport     432\n",
      "23     talk-show     391\n",
      "24      thriller    1591\n",
      "25           war     132\n",
      "26       western    1032\n"
     ]
    }
   ],
   "source": [
    "# Group by 'genre' and count occurrences\n",
    "genre_counts = df.groupby('genre').size().reset_index(name='count')\n",
    "\n",
    "# Print the resulting DataFrame\n",
    "print(genre_counts)"
   ]
  },
  {
   "cell_type": "code",
   "execution_count": 50,
   "metadata": {},
   "outputs": [],
   "source": [
    "# Preprocessing\n",
    "stop_words = set(stopwords.words('english'))\n",
    "tfidf_vectorizer = TfidfVectorizer(max_features=5000, stop_words=None)\n",
    "X = tfidf_vectorizer.fit_transform(df['description'])\n",
    "y = df['genre']\n"
   ]
  },
  {
   "cell_type": "code",
   "execution_count": 55,
   "metadata": {},
   "outputs": [
    {
     "name": "stdout",
     "output_type": "stream",
     "text": [
      "Accuracy: 0.5120354145531679\n",
      "Classification Report:\n",
      "               precision    recall  f1-score   support\n",
      "\n",
      "      action        0.57      0.05      0.09       263\n",
      "       adult        1.00      0.02      0.04       112\n",
      "   adventure        0.44      0.03      0.05       139\n",
      "   animation        0.00      0.00      0.00       104\n",
      "   biography        0.00      0.00      0.00        61\n",
      "      comedy        0.51      0.40      0.45      1443\n",
      "       crime        0.00      0.00      0.00       107\n",
      " documentary        0.57      0.89      0.69      2659\n",
      "       drama        0.45      0.84      0.58      2697\n",
      "      family        0.00      0.00      0.00       150\n",
      "     fantasy        0.00      0.00      0.00        74\n",
      "   game-show        1.00      0.03      0.05        40\n",
      "     history        0.00      0.00      0.00        45\n",
      "      horror        0.77      0.27      0.40       431\n",
      "       music        0.92      0.08      0.15       144\n",
      "     musical        0.00      0.00      0.00        50\n",
      "     mystery        0.00      0.00      0.00        56\n",
      "        news        0.00      0.00      0.00        34\n",
      "  reality-tv        1.00      0.02      0.03       192\n",
      "     romance        0.00      0.00      0.00       151\n",
      "      sci-fi        1.00      0.01      0.01       143\n",
      "       short        0.66      0.08      0.14      1045\n",
      "       sport        0.70      0.08      0.14        93\n",
      "   talk-show        0.00      0.00      0.00        81\n",
      "    thriller        0.44      0.01      0.03       309\n",
      "         war        0.00      0.00      0.00        20\n",
      "     western        0.99      0.50      0.66       200\n",
      "\n",
      "     accuracy                           0.51     10843\n",
      "    macro avg       0.41      0.12      0.13     10843\n",
      " weighted avg       0.52      0.51      0.42     10843\n",
      "\n"
     ]
    },
    {
     "name": "stderr",
     "output_type": "stream",
     "text": [
      "/Users/rodolfocacacho/opt/anaconda3/envs/MAI/lib/python3.10/site-packages/sklearn/metrics/_classification.py:1344: UndefinedMetricWarning: Precision and F-score are ill-defined and being set to 0.0 in labels with no predicted samples. Use `zero_division` parameter to control this behavior.\n",
      "  _warn_prf(average, modifier, msg_start, len(result))\n",
      "/Users/rodolfocacacho/opt/anaconda3/envs/MAI/lib/python3.10/site-packages/sklearn/metrics/_classification.py:1344: UndefinedMetricWarning: Precision and F-score are ill-defined and being set to 0.0 in labels with no predicted samples. Use `zero_division` parameter to control this behavior.\n",
      "  _warn_prf(average, modifier, msg_start, len(result))\n",
      "/Users/rodolfocacacho/opt/anaconda3/envs/MAI/lib/python3.10/site-packages/sklearn/metrics/_classification.py:1344: UndefinedMetricWarning: Precision and F-score are ill-defined and being set to 0.0 in labels with no predicted samples. Use `zero_division` parameter to control this behavior.\n",
      "  _warn_prf(average, modifier, msg_start, len(result))\n"
     ]
    }
   ],
   "source": [
    "# Split data into training and testing sets\n",
    "X_train, X_test, y_train, y_test = train_test_split(X, y, test_size=0.2, random_state=42)\n",
    "\n",
    "# Train a classifier (e.g., Multinomial Naive Bayes)\n",
    "classifier = MultinomialNB()\n",
    "classifier.fit(X_train, y_train)\n",
    "\n",
    "# Make predictions\n",
    "y_pred = classifier.predict(X_test)\n",
    "\n",
    "# Evaluate the model\n",
    "accuracy = accuracy_score(y_test, y_pred)\n",
    "report = classification_report(y_test, y_pred)\n",
    "\n",
    "print(f'Accuracy: {accuracy}')\n",
    "print(f'Classification Report:\\n{report}')"
   ]
  },
  {
   "cell_type": "code",
   "execution_count": null,
   "metadata": {},
   "outputs": [],
   "source": []
  },
  {
   "cell_type": "code",
   "execution_count": null,
   "metadata": {},
   "outputs": [],
   "source": []
  },
  {
   "cell_type": "code",
   "execution_count": null,
   "metadata": {},
   "outputs": [],
   "source": []
  }
 ],
 "metadata": {
  "kernelspec": {
   "display_name": "MAI",
   "language": "python",
   "name": "python3"
  },
  "language_info": {
   "codemirror_mode": {
    "name": "ipython",
    "version": 3
   },
   "file_extension": ".py",
   "mimetype": "text/x-python",
   "name": "python",
   "nbconvert_exporter": "python",
   "pygments_lexer": "ipython3",
   "version": "3.10.9"
  }
 },
 "nbformat": 4,
 "nbformat_minor": 2
}
