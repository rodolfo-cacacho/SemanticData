{
 "cells": [
  {
   "cell_type": "code",
   "execution_count": 2,
   "metadata": {},
   "outputs": [],
   "source": [
    "import markovify"
   ]
  },
  {
   "cell_type": "code",
   "execution_count": 3,
   "metadata": {},
   "outputs": [],
   "source": [
    "with open(\"trump_tweet.txt\") as f:\n",
    "    text = f.read()"
   ]
  },
  {
   "cell_type": "code",
   "execution_count": 4,
   "metadata": {},
   "outputs": [],
   "source": [
    "text_model = markovify.Text(text)"
   ]
  },
  {
   "cell_type": "code",
   "execution_count": 5,
   "metadata": {},
   "outputs": [
    {
     "name": "stdout",
     "output_type": "stream",
     "text": [
      ".@foxandfriends interview re: Europe's financial mess, investing in Spain, Germany's economy and won't bow down to the families of the really nice lead in Ohio.\n",
      "We are about to cut ours by over a magazine and it will eat him last.\n",
      "Come join us this summer. http://pbs.twimg.com/media/BndkPkzCAAE7urY.jpg RT @TrumpCollection: What could be set free-wow, what a day.\n",
      "@ld06981p Larry, thank you for your continued support.\n",
      "Great, everyone is saying that my Apprentice $ numbers were wrong.\n"
     ]
    }
   ],
   "source": [
    "for i in range(5):\n",
    "    print(text_model.make_sentence())\n"
   ]
  },
  {
   "cell_type": "code",
   "execution_count": 7,
   "metadata": {},
   "outputs": [
    {
     "name": "stdout",
     "output_type": "stream",
     "text": [
      "See you in office is what America needs.\n",
      "#CelebApprentice I will shoot straight and call it a tirade..totally dishonest!\n",
      ".@GovChristie is going to rule but have done an incredible Cinco De Mayo celebration! http://ow.ly/MtQzr RT @TrumpFerryPoint: The Long Awaited Arrival: #TrumpFerryPoint Ready for America to be a buyer’s market but somewhat fragile.\n",
      "Try using your last day of the mistakes that are supporting them doesn't serve our national security.\n",
      "Due to the @Yankees look like it's going to bring the respect back.\n",
      "Keep that in the White House has just been forced off their plans and doctors-fraud!\n",
      "Always keep your goals substance.\n",
      "Tell our stupid politicians, ENOUGH RT @TrumpCollection: Today is the best project manager tonight on Celebrity Apprentice tonight at 10 PM.\n",
      "Entrepreneurs: Keep your sister’s very important policy statement on the edge--no complacency is allowed--and keep an open mind.\n",
      "Understand that difficulties, mistakes and setbacks are an inevitable part of the career politicians he's running for president, I filed financial papers showing unbelievable numbers.\n"
     ]
    }
   ],
   "source": [
    "for i in range(10):\n",
    "    print(text_model.make_short_sentence(280))"
   ]
  },
  {
   "cell_type": "code",
   "execution_count": 8,
   "metadata": {},
   "outputs": [],
   "source": [
    "# model_json = text_model.to_json()\n",
    "# In theory, here you'd save the JSON to disk, and then read it back later.\n",
    "\n",
    "#reconstituted_model = markovify.Text.from_json(model_json)\n",
    "#reconstituted_model.make_short_sentence(280)"
   ]
  },
  {
   "cell_type": "code",
   "execution_count": null,
   "metadata": {},
   "outputs": [],
   "source": []
  }
 ],
 "metadata": {
  "kernelspec": {
   "display_name": "myenv",
   "language": "python",
   "name": "python3"
  },
  "language_info": {
   "codemirror_mode": {
    "name": "ipython",
    "version": 3
   },
   "file_extension": ".py",
   "mimetype": "text/x-python",
   "name": "python",
   "nbconvert_exporter": "python",
   "pygments_lexer": "ipython3",
   "version": "3.10.13"
  },
  "orig_nbformat": 4
 },
 "nbformat": 4,
 "nbformat_minor": 2
}
