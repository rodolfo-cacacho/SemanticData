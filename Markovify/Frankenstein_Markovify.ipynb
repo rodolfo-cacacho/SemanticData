{
 "cells": [
  {
   "cell_type": "code",
   "execution_count": 1,
   "metadata": {},
   "outputs": [],
   "source": [
    "import markovify"
   ]
  },
  {
   "cell_type": "code",
   "execution_count": 2,
   "metadata": {},
   "outputs": [],
   "source": [
    "with open(\"frank.txt\") as f:\n",
    "    text = f.read()"
   ]
  },
  {
   "cell_type": "code",
   "execution_count": 3,
   "metadata": {},
   "outputs": [],
   "source": [
    "text_model = markovify.Text(text)"
   ]
  },
  {
   "cell_type": "code",
   "execution_count": 4,
   "metadata": {},
   "outputs": [
    {
     "name": "stdout",
     "output_type": "stream",
     "text": [
      "But I will be a creature of fine sensations, and did I not suffered enough, that you may dread and yet my courage and perseverance were invigorated by these means was enabled, with infinite fatigue, to move the passions of pity or love, without tears.\n",
      "She welcomed me with smiles of delight welcomed his Arabian.\n",
      "Yet that is a great part of my being!\n",
      "I knew that he might receive his companion.\n",
      "What could I apply with more than a garden rose among dark-leaved brambles.\n"
     ]
    }
   ],
   "source": [
    "for i in range(5):\n",
    "    print(text_model.make_sentence())"
   ]
  },
  {
   "cell_type": "code",
   "execution_count": 5,
   "metadata": {},
   "outputs": [
    {
     "name": "stdout",
     "output_type": "stream",
     "text": [
      "My wife and my dreams lulled me even more mild and docile to my care.\n",
      "About half an hour in this manner.\n",
      "We resided principally in the streets without any presumption or affectation, and then looked around and saw idleness and ruin in the fate of its inhabitants; and the assemblage of snowy mountains that in my imagination as the sun was my doing!\n",
      "Yet he might be followed, even sooner than he pities me?\n",
      "I have recorded would be disgusted, until, by my machinations.\n",
      "She had at first deprived me of utterance, and I often took his tools, the use of his destroyer.\n",
      "He held up the letter, while I destroyed his hopes, if thus inexorable fate be satisfied, and if yet, in some plan of introducing myself into the room which had fallen in the fate awaiting me.\n",
      "Thus are my enticements, and they spoke English, and the distorted proportions of a pearly whiteness; but these are useless complaints; I shall no longer talked in the courtyard belonging to the spot.\n",
      "Once, after the first meal.\n",
      "It had been conversing with his father, sister, and all the evidence.\n"
     ]
    }
   ],
   "source": [
    "for i in range(10):\n",
    "    print(text_model.make_short_sentence(280))"
   ]
  },
  {
   "cell_type": "code",
   "execution_count": 12,
   "metadata": {},
   "outputs": [],
   "source": [
    "# model_json = text_model.to_json()\n",
    "# In theory, here you'd save the JSON to disk, and then read it back later.\n",
    "\n",
    "#reconstituted_model = markovify.Text.from_json(model_json)\n",
    "#reconstituted_model.make_short_sentence(280)"
   ]
  },
  {
   "cell_type": "code",
   "execution_count": null,
   "metadata": {},
   "outputs": [],
   "source": []
  }
 ],
 "metadata": {
  "kernelspec": {
   "display_name": "myenv",
   "language": "python",
   "name": "python3"
  },
  "language_info": {
   "codemirror_mode": {
    "name": "ipython",
    "version": 3
   },
   "file_extension": ".py",
   "mimetype": "text/x-python",
   "name": "python",
   "nbconvert_exporter": "python",
   "pygments_lexer": "ipython3",
   "version": "3.10.13"
  },
  "orig_nbformat": 4
 },
 "nbformat": 4,
 "nbformat_minor": 2
}
