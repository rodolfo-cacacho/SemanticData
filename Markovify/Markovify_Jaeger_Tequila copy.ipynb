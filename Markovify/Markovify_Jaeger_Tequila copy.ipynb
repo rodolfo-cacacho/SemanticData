{
 "cells": [
  {
   "cell_type": "code",
   "execution_count": 20,
   "metadata": {},
   "outputs": [],
   "source": [
    "import markovify"
   ]
  },
  {
   "cell_type": "code",
   "execution_count": 24,
   "metadata": {},
   "outputs": [],
   "source": [
    "with open(\"chat.txt\") as f:\n",
    "    text = f.read()"
   ]
  },
  {
   "cell_type": "code",
   "execution_count": 25,
   "metadata": {},
   "outputs": [],
   "source": [
    "text_model = markovify.Text(text)"
   ]
  },
  {
   "cell_type": "code",
   "execution_count": 27,
   "metadata": {},
   "outputs": [
    {
     "name": "stdout",
     "output_type": "stream",
     "text": [
      "Fernanda Perrone: *sorry Rodolfo: https://www.instagram.com/reel/CygnFV4sWvB/?igshid=MzRlODBiNWFlZA== Who’s up for the first class yes!\n",
      "Alex: No, but that’s what I recall Mohammad Moradi: Check this out Fernanda Perrone: 😂 Yernar: https://www.instagram.com/reel/CvSflfoosf3/?igshid=MTc4MmM1YmI2Ng== Fernanda Perrone: A is in zellerau rights Fernanda Perrone: we just sit in the bus to thws Fernanda Perrone: yeah Yernar: I will arrive there at 12:30🥲 Fernanda Perrone: 😂😂 Fernanda Perrone: or A Fernanda Perrone: i think the time table is the Deustchland Ticket gonna be 14€ starting October, and I showed it to @17343588960 Remember?😂 Mohammad Moradi: Hahahahahaha seems like the weather will be shit on Friday.\n",
      "Fernanda Perrone: study smarter not harder😎 Fernanda Perrone: did anyone figure out what time?\n",
      "Fernanda Perrone: we are paying 49€ Alex: You can try here, but I don’t think there will be fine😂😂 Mariana Duarte: So where can we see it?\n",
      "Fernanda Perrone: i need a warmup alarm to get something for pickup Rodolfo: So who wants to get to celebrate my birthday twice, just late night thoughts 😂 ~ Otto: Issa Plan Mariana Duarte: How many people fit in your bed?\n",
      "Mohammad Moradi: You can attend the welcome event Mohammad Moradi: Us in ICEs Fernanda Perrone: no i’m on my way to wü is at 23:54 just btw Alex: https://www.instagram.com/reel/Cx8THwXIwSK/?igshid=MTc4MmM1YmI2Ng== Alex: Are you still gonna be me during cloud native and got 4.0 🤦🏼‍♂️😅 shitty exam Rodolfo: At what time are you looking for one Fernanda Perrone: just follow ottos location i guess 😂 Fernanda Perrone: *moodle Fernanda Perrone: did anyone figure out how to get to shl?\n",
      "Yernar: You guys have to work on the left Mohammad Moradi: Should be 15 starting October Mariana Duarte: Which seat did y’all get?\n",
      "Rodolfo: Like 6 Fernanda Perrone: damn ~ Otto: Yea come!\n",
      "Rodolfo: It works for me and otto Fernanda Perrone: from me it takes 24 mins Fernanda Perrone: https://www.instagram.com/reel/CxXcCeDMu1o/?igshid=MzRlODBiNWFlZA== Mohammad Moradi: https://www.wvv.de/mobil-b2c/semesterticket.html#deutschlandticket_studierende Yernar: It says ab 1 October…😬 Mohammad Moradi: No no not me either Alex: https://www.instagram.com/reel/CvBVPFxIaEi/?igshid=MzRlODBiNWFlZA== Alex: Soccerer Mariana Duarte: ^ Mariana Duarte: Umm maybe I haven’t checked my student ID or whatever requirements they needed to prove that I was late for the clarification, I was thinking something chill maybe?\n",
      "~ Otto: Marius mittlerweile sind es 8 kurze zum nachholen ~ Otto: My guy living the life Fernanda Perrone: 🥲🥲🥲 nooooo Rodolfo: I just want to reservate next to Maiz Rodolfo: What error do you guys look so happy Marius Oechslein: are you what are guys doing?\n"
     ]
    }
   ],
   "source": [
    "for i in range(10):\n",
    "    print(text_model.make_sentence())\n"
   ]
  },
  {
   "cell_type": "code",
   "execution_count": 28,
   "metadata": {},
   "outputs": [
    {
     "name": "stdout",
     "output_type": "stream",
     "text": [
      "Fernanda Perrone: if someone wants to get the discount ~ Otto: But Cairo pronounced correctly 🌚 Mohammad Moradi: My conclusion is we are upstares, found a place it’s by kauflamd Mariana Duarte: Lmao 🤣 Mariana Duarte: Lmao I just have to leave yet, go to our place?\n",
      "Mohammad Moradi: https://www.wvv.de/mobil-b2c/azubiticket/index.html#deutschlandticket_ausbildung Mohammad Moradi: It’s much more expensive especially bakery stuff🥲 Fernanda Perrone: both of you guys already take the bus?\n",
      "Fernanda Perrone: oh 100% Mariana Duarte: Where y’all getting beers?\n",
      "Alex: In Schweinfurt only ~ Otto: 😂😂 accurate ~ Otto: What even happened there?\n",
      "Because I came to a dead end Mohammad Moradi: https://www.wvv.de/mobil-b2c/azubiticket/index.html#deutschlandticket_ausbildung Mohammad Moradi: Check this out Fernanda Perrone: let’s try and plan something for next weekend if you are still there Rodolfo: Where in sanderring?\n",
      "Marius Oechslein: did someone get F10 and F11? i dont mind to go to our place 🤙🏽 Mariana Duarte: Ich bin!\n",
      "🍜 Fernanda Perrone: not sure Fernanda Perrone: genau Fernanda Perrone: sounds good. we’re getting ready to leave 50 min earlier instead of 5 min this time Fernanda Perrone: Should we meet around 1?\n",
      "~ Otto: Take a taxi Fernanda Perrone: it’s our first class of the day Fernanda Perrone: move theater is in town this weekend but we’re down for next 10days Mariana Duarte: Waking Yernar: Yeap Rodolfo: @491604811521 kommst du?\n",
      "Alex: And has anyone already at Mensa?\n",
      "I hope you all doing very good Yernar: I am looking for his dad?\n"
     ]
    }
   ],
   "source": [
    "for i in range(10):\n",
    "    print(text_model.make_short_sentence(280))"
   ]
  },
  {
   "cell_type": "code",
   "execution_count": 8,
   "metadata": {},
   "outputs": [],
   "source": [
    "# model_json = text_model.to_json()\n",
    "# In theory, here you'd save the JSON to disk, and then read it back later.\n",
    "\n",
    "#reconstituted_model = markovify.Text.from_json(model_json)\n",
    "#reconstituted_model.make_short_sentence(280)"
   ]
  },
  {
   "cell_type": "code",
   "execution_count": null,
   "metadata": {},
   "outputs": [],
   "source": []
  }
 ],
 "metadata": {
  "kernelspec": {
   "display_name": "myenv",
   "language": "python",
   "name": "python3"
  },
  "language_info": {
   "codemirror_mode": {
    "name": "ipython",
    "version": 3
   },
   "file_extension": ".py",
   "mimetype": "text/x-python",
   "name": "python",
   "nbconvert_exporter": "python",
   "pygments_lexer": "ipython3",
   "version": "3.10.13"
  },
  "orig_nbformat": 4
 },
 "nbformat": 4,
 "nbformat_minor": 2
}
