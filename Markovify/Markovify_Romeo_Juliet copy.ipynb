{
 "cells": [
  {
   "cell_type": "code",
   "execution_count": 2,
   "metadata": {},
   "outputs": [],
   "source": [
    "import markovify"
   ]
  },
  {
   "cell_type": "code",
   "execution_count": 7,
   "metadata": {},
   "outputs": [],
   "source": [
    "with open(\"RandJ.txt\") as f:\n",
    "    text = f.read()"
   ]
  },
  {
   "cell_type": "code",
   "execution_count": 8,
   "metadata": {},
   "outputs": [],
   "source": [
    "text_model = markovify.Text(text)"
   ]
  },
  {
   "cell_type": "code",
   "execution_count": 9,
   "metadata": {},
   "outputs": [
    {
     "name": "stdout",
     "output_type": "stream",
     "text": [
      "What misadventure is so ill!\n",
      "I will omit no opportunity That may be so, for she divideth us.\n",
      "Romeo will be of more price, Being spoke behind your back, than to marry County Paris slain; And Juliet bleeding, warm, and newly dead, Who here hath lain asleep in the taste confounds the appetite.\n",
      "I do, with all my fortunes at thy foot I'll lay fourteen of my tale, and meant indeed to occupy the argument no longer.\n",
      "Hold, take these keys and fetch him hither.\n"
     ]
    }
   ],
   "source": [
    "for i in range(5):\n",
    "    print(text_model.make_sentence())"
   ]
  },
  {
   "cell_type": "code",
   "execution_count": 13,
   "metadata": {},
   "outputs": [
    {
     "name": "stdout",
     "output_type": "stream",
     "text": [
      "Dead art thou, dead! alack, my child my joys are buried!\n",
      "The sweetest honey Is loathsome in his own tears made drunk.\n",
      "Therefore stay yet; thou need'st not to me, for I'll not be forsworn.\n",
      "Thou detestable maw, thou womb of death, all men depart.\n",
      "Ay, mine own fortune in my eye so do you.\n",
      "Now, must I use thee.\n",
      "I Pray you, sir, have patience.\n",
      "Condemned villain, I do so, it will be Romeo.\n",
      "Since birth and heaven and may not speak of that house shall move me to thy lord.\n",
      "O, much I fear thee!\n"
     ]
    }
   ],
   "source": [
    "for i in range(10):\n",
    "    print(text_model.make_short_sentence(280))"
   ]
  },
  {
   "cell_type": "markdown",
   "metadata": {},
   "source": [
    "Dead art thou, dead! alack, my child my joys are buried!\n",
    "\n",
    "The sweetest honey Is loathsome in his own tears made drunk.\n",
    "\n",
    "Therefore stay yet; thou need'st not to me, for I'll not be forsworn.\n",
    "\n",
    "Thou detestable maw, thou womb of death, all men depart.\n",
    "\n",
    "Ay, mine own fortune in my eye so do you.\n",
    "\n",
    "Now, must I use thee.\n",
    "\n",
    "I Pray you, sir, have patience.\n",
    "\n",
    "Condemned villain, I do so, it will be Romeo.\n",
    "\n",
    "Since birth and heaven and may not speak of that house shall move me to thy lord.\n",
    "\n",
    "O, much I fear thee!"
   ]
  },
  {
   "cell_type": "code",
   "execution_count": 12,
   "metadata": {},
   "outputs": [],
   "source": [
    "# model_json = text_model.to_json()\n",
    "# In theory, here you'd save the JSON to disk, and then read it back later.\n",
    "\n",
    "#reconstituted_model = markovify.Text.from_json(model_json)\n",
    "#reconstituted_model.make_short_sentence(280)"
   ]
  },
  {
   "cell_type": "code",
   "execution_count": null,
   "metadata": {},
   "outputs": [],
   "source": []
  }
 ],
 "metadata": {
  "kernelspec": {
   "display_name": "myenv",
   "language": "python",
   "name": "python3"
  },
  "language_info": {
   "codemirror_mode": {
    "name": "ipython",
    "version": 3
   },
   "file_extension": ".py",
   "mimetype": "text/x-python",
   "name": "python",
   "nbconvert_exporter": "python",
   "pygments_lexer": "ipython3",
   "version": "3.10.13"
  },
  "orig_nbformat": 4
 },
 "nbformat": 4,
 "nbformat_minor": 2
}
