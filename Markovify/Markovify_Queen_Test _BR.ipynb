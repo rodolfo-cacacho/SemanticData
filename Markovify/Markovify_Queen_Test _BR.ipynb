{
 "cells": [
  {
   "cell_type": "code",
   "execution_count": 2,
   "metadata": {},
   "outputs": [],
   "source": [
    "import markovify"
   ]
  },
  {
   "cell_type": "code",
   "execution_count": 3,
   "metadata": {},
   "outputs": [],
   "source": [
    "with open(\"bohemian_raps.txt\") as f:\n",
    "    text = f.read()"
   ]
  },
  {
   "cell_type": "code",
   "execution_count": 4,
   "metadata": {},
   "outputs": [],
   "source": [
    "text_model = markovify.Text(text)"
   ]
  },
  {
   "cell_type": "code",
   "execution_count": 6,
   "metadata": {},
   "outputs": [
    {
     "name": "stdout",
     "output_type": "stream",
     "text": [
      "So you think you can stone me and leave me to die?\n",
      "So you think you can love me and spit in my eye?\n",
      "None\n",
      "None\n",
      "So you think you can love me and spit in my eye?\n"
     ]
    }
   ],
   "source": [
    "for i in range(5):\n",
    "    print(text_model.make_sentence())\n"
   ]
  },
  {
   "cell_type": "code",
   "execution_count": 9,
   "metadata": {},
   "outputs": [
    {
     "name": "stdout",
     "output_type": "stream",
     "text": [
      "Oh, baby, can't do this to me, to me Mama, just killed a man Scaramouche, Scaramouche, will you do the Fandango?\n",
      "So you think you can stone me and leave me to die?\n",
      "Oh, baby, can't do this to me, to me Mama, just killed a man Scaramouche, Scaramouche, will you do the Fandango?\n",
      "Thunderbolt and lightning, very, very frightening me Galileo Galileo, Galileo Figaro, magnifico But I'm just a poor boy, I need no sympathy Because I'm easy come, easy go, will you do the Fandango?\n",
      "So you think you can love me and spit in my eye?\n",
      "Oh, baby, can't do this to me, baby Just gotta get right outta here Ooh Ooh, yeah, ooh, yeah Nothing really matters Nothing really matters Nothing really matters, anyone can see Nothing really matters Nothing really matters Nothing really matters to me\n",
      "No, we will not let you go let me go Never, never, never, never let me go Beelzebub has a devil put aside for me, for me, for me, for me, for me So you think you can love me and spit in my eye?\n",
      "So you think you can love me and spit in my eye?\n",
      "Oh, baby, can't do this to me, baby Just gotta get right outta here Ooh Ooh, yeah, ooh, yeah Nothing really matters to me\n",
      "Oh, baby, can't do this to me, to me Mama, just killed a man Scaramouche, Scaramouche, will you do the Fandango?\n"
     ]
    }
   ],
   "source": [
    "for i in range(10):\n",
    "    print(text_model.make_short_sentence(280))"
   ]
  },
  {
   "cell_type": "code",
   "execution_count": 8,
   "metadata": {},
   "outputs": [],
   "source": [
    "# model_json = text_model.to_json()\n",
    "# In theory, here you'd save the JSON to disk, and then read it back later.\n",
    "\n",
    "#reconstituted_model = markovify.Text.from_json(model_json)\n",
    "#reconstituted_model.make_short_sentence(280)"
   ]
  },
  {
   "cell_type": "code",
   "execution_count": null,
   "metadata": {},
   "outputs": [],
   "source": []
  }
 ],
 "metadata": {
  "kernelspec": {
   "display_name": "myenv",
   "language": "python",
   "name": "python3"
  },
  "language_info": {
   "codemirror_mode": {
    "name": "ipython",
    "version": 3
   },
   "file_extension": ".py",
   "mimetype": "text/x-python",
   "name": "python",
   "nbconvert_exporter": "python",
   "pygments_lexer": "ipython3",
   "version": "3.10.13"
  },
  "orig_nbformat": 4
 },
 "nbformat": 4,
 "nbformat_minor": 2
}
