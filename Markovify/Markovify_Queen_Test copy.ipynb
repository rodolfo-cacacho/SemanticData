{
 "cells": [
  {
   "cell_type": "code",
   "execution_count": 3,
   "metadata": {},
   "outputs": [],
   "source": [
    "import markovify"
   ]
  },
  {
   "cell_type": "code",
   "execution_count": 4,
   "metadata": {},
   "outputs": [],
   "source": [
    "with open(\"Somebody_To_Love.txt\") as f:\n",
    "    text = f.read()"
   ]
  },
  {
   "cell_type": "code",
   "execution_count": 5,
   "metadata": {},
   "outputs": [],
   "source": [
    "text_model = markovify.Text(text)"
   ]
  },
  {
   "cell_type": "code",
   "execution_count": 6,
   "metadata": {},
   "outputs": [
    {
     "name": "stdout",
     "output_type": "stream",
     "text": [
      "Can anybody find me somebody to love Can anybody find me Somebody find me someone to love Ooh find me Somebody, somebody to love Can anybody find me somebody to love?\n",
      "Can anybody find me somebody to love Find me, find me somebody to love Find me somebody to love somebody to love ooh Somebody, somebody, somebody, somebody Somebody find me Anybody, find me somebody to love Find me, find me, find me, find me, find me, find me somebody to love Find me somebody to love Find me, find me Anybody, find me somebody to love Find me somebody to love?\n",
      "Can anybody find me somebody to love Find me somebody to love Find me, find me, find Find me somebody to love Find me somebody, somebody find me somebody to love Can anybody find me somebody to love find me, find me, find me somebody to love Ooh find me somebody to love?\n",
      "Find me somebody, somebody Somebody find me Find me somebody to love, love, love, love, love, love somebody to love Find me, find me, find me somebody to love Can anybody find me somebody to love Find me, find me Find me somebody to love Find me, find Find me somebody to love Can anybody find me somebody to love?\n",
      "Can anybody find me somebody to love Find me somebody to love Find me somebody, somebody find me Find me somebody to love Can anybody find me Anybody, find me Somebody, somebody to love, love, love, love, love somebody to love Ooh Find me somebody to love Find me somebody to love Anybody, anywhere find me someone to love find me, find me, find me Anybody, find me somebody to love somebody to love Ooh Find me somebody to love Can anybody find me somebody to love Ooh Find me somebody to love?\n"
     ]
    }
   ],
   "source": [
    "for i in range(5):\n",
    "    print(text_model.make_sentence())\n"
   ]
  },
  {
   "cell_type": "code",
   "execution_count": 7,
   "metadata": {},
   "outputs": [
    {
     "name": "stdout",
     "output_type": "stream",
     "text": [
      "Can anybody find me Find me somebody to love somebody to love, love, love, love ooh, find me, find me somebody to love?\n",
      "Find me somebody to love?\n",
      "Can anybody find me Somebody, somebody to love ooh Somebody, somebody, somebody, somebody Somebody find me somebody to love?\n",
      "Can anybody find me somebody to love somebody to love Find me somebody, somebody Somebody find me Somebody find me somebody to love Ooh find me somebody to love Find me somebody to love?\n",
      "Find me somebody to love Find me, find me, find me Anybody, find me love\n",
      "Can anybody find me Somebody, somebody to love?\n",
      "Can anybody find me someone to love somebody to love somebody to love?\n",
      "Can anybody find me Ooh, somebody to love Find me somebody, somebody find me Ooh, somebody to love find me someone to love find me Somebody find me Anybody, find me somebody to love find me, find Find me somebody, somebody find me Find me somebody to love somebody to love?\n",
      "Can anybody find me somebody to love Find me somebody to love?\n",
      "Find me somebody to love?\n"
     ]
    }
   ],
   "source": [
    "for i in range(10):\n",
    "    print(text_model.make_short_sentence(280))"
   ]
  },
  {
   "cell_type": "code",
   "execution_count": 8,
   "metadata": {},
   "outputs": [],
   "source": [
    "# model_json = text_model.to_json()\n",
    "# In theory, here you'd save the JSON to disk, and then read it back later.\n",
    "\n",
    "#reconstituted_model = markovify.Text.from_json(model_json)\n",
    "#reconstituted_model.make_short_sentence(280)"
   ]
  },
  {
   "cell_type": "code",
   "execution_count": null,
   "metadata": {},
   "outputs": [],
   "source": []
  }
 ],
 "metadata": {
  "kernelspec": {
   "display_name": "myenv",
   "language": "python",
   "name": "python3"
  },
  "language_info": {
   "codemirror_mode": {
    "name": "ipython",
    "version": 3
   },
   "file_extension": ".py",
   "mimetype": "text/x-python",
   "name": "python",
   "nbconvert_exporter": "python",
   "pygments_lexer": "ipython3",
   "version": "3.10.13"
  },
  "orig_nbformat": 4
 },
 "nbformat": 4,
 "nbformat_minor": 2
}
